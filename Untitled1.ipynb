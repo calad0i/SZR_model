{
 "cells": [
  {
   "cell_type": "code",
   "execution_count": null,
   "id": "a5f3d0ec-abd1-45d6-a543-1094a294ef42",
   "metadata": {},
   "outputs": [],
   "source": []
  }
 ],
 "metadata": {
  "kernelspec": {
   "display_name": "",
   "name": ""
  },
  "language_info": {
   "name": ""
  }
 },
 "nbformat": 4,
 "nbformat_minor": 5
}
