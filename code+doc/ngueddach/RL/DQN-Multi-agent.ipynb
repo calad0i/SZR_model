{
 "cells": [
  {
   "cell_type": "markdown",
   "metadata": {},
   "source": [
    "### Imports"
   ]
  },
  {
   "cell_type": "code",
   "execution_count": 19,
   "metadata": {},
   "outputs": [],
   "source": [
    "import numpy as np\n",
    "import torch\n",
    "import torch.nn as nn\n",
    "import torch.optim as optim\n",
    "import torch.nn.functional as F\n",
    "from collections import namedtuple, deque\n",
    "import random\n",
    "import math\n",
    "from itertools import count\n",
    "from PIL import Image\n",
    "import cv2\n",
    "from tqdm import tqdm\n",
    "import matplotlib.pyplot as plt\n",
    "import time"
   ]
  },
  {
   "cell_type": "markdown",
   "metadata": {},
   "source": [
    "### Hyperparameters"
   ]
  },
  {
   "cell_type": "code",
   "execution_count": 35,
   "metadata": {},
   "outputs": [],
   "source": [
    "# DQL constants\n",
    "BUFFER_SIZE = int(1e5)\n",
    "BATCH_SIZE = 128\n",
    "GAMMA = 0.95\n",
    "EPS_START = 0.99\n",
    "EPS_END = 0.05\n",
    "EPS_DECAY = 1200\n",
    "TARGET_UPDATE_EVERY = 20\n",
    "LEARNING_RATE = 5e-4\n",
    "NUM_EPISODES = 2000\n",
    "\n",
    "# Environment constants\n",
    "ENV_SIZE = 45\n",
    "MAX_ENV_STEPS = 100\n",
    "MAX_ENV_STEPS_SIMU = 300\n",
    "POP_DENSITY = 0.2\n",
    "ZOMBIE_FRACTION = 0.25\n",
    "VISIBILITY = 9 # square's half side length\n",
    "STATE_ROOT_SIZE = 2 * VISIBILITY + 1\n",
    "STATE_SIZE = STATE_ROOT_SIZE**2\n",
    "ACTION_SIZE = 5 # 4 directions + do nothing\n",
    "ZOMBIE_VISIBILITY = 7\n",
    "WARMUP_TIME = 20 # nb episodes before zombies start to move\n",
    "B = 1.35 # Bite rate\n",
    "\n",
    "DEATH_REWARD = -20\n",
    "KILL_REWARD = 2\n",
    "REST_REWARD = 0\n",
    "MOVE_REWARD = 0\n",
    "SURVIVE_REWARD = 0\n",
    "\n",
    "EMPTY_CELL = 0\n",
    "HUMAN_CELL = 1\n",
    "AGENT_CELL = 2\n",
    "ZOMBIE_CELL = 3\n",
    "# BGR encoding for some reason \n",
    "colors = {EMPTY_CELL: (0, 0, 0),\n",
    "          HUMAN_CELL: (0, 180, 0),\n",
    "          AGENT_CELL: (255, 200, 200),\n",
    "          ZOMBIE_CELL: (0, 0, 180)}\n",
    "\n",
    "# Printing and visualization constants\n",
    "SHOW_ENV = False\n",
    "SHOW_ENV_EVERY = 20\n",
    "AGGREGATE_STATS_EVERY = 40"
   ]
  },
  {
   "cell_type": "markdown",
   "metadata": {},
   "source": [
    "### Device selection"
   ]
  },
  {
   "cell_type": "code",
   "execution_count": 36,
   "metadata": {},
   "outputs": [
    {
     "name": "stdout",
     "output_type": "stream",
     "text": [
      "cuda\n"
     ]
    }
   ],
   "source": [
    "device = torch.device(\"cuda\" if torch.cuda.is_available() else \"cpu\")\n",
    "print(device)"
   ]
  },
  {
   "cell_type": "markdown",
   "metadata": {},
   "source": [
    "## Function definitions"
   ]
  },
  {
   "cell_type": "markdown",
   "metadata": {},
   "source": [
    "### The Environment"
   ]
  },
  {
   "cell_type": "code",
   "execution_count": 37,
   "metadata": {},
   "outputs": [],
   "source": [
    "class Environment():\n",
    "    \"\"\"\n",
    "    Defines the POMDP dynamics\n",
    "    \"\"\"\n",
    "    \n",
    "    def __init__(self):\n",
    "        print(\"Initializing environment\")\n",
    "    \n",
    "    def multireset(self):\n",
    "        \"\"\"\n",
    "        Reinitializes the environment.\n",
    "        Used when we are controlling multiple agents\n",
    "        \"\"\"\n",
    "        self.grid = np.zeros((ENV_SIZE, ENV_SIZE), dtype=np.uint8)\n",
    "        \n",
    "        ## place people and zombies\n",
    "        rands = [random.uniform(0, 1) for i in range(ENV_SIZE**2)]\n",
    "        r = random.randint(0, ENV_SIZE**2-1)\n",
    "        self.humans_pos = []\n",
    "        self.zombies_pos = []\n",
    "        for y in range(ENV_SIZE):\n",
    "            for x in range(ENV_SIZE):\n",
    "                if rands[y * ENV_SIZE + x] < POP_DENSITY:\n",
    "                    if rands[y * ENV_SIZE + x] < POP_DENSITY * ZOMBIE_FRACTION:\n",
    "                        self.grid[y, x] = ZOMBIE_CELL\n",
    "                        self.zombies_pos.append((y, x))\n",
    "                    else:\n",
    "                        self.grid[y, x] = HUMAN_CELL\n",
    "                        self.humans_pos.append((y, x))\n",
    "\n",
    "        self.episode_step = 0\n",
    "    \n",
    "    def reset(self):\n",
    "        \"\"\"\n",
    "        Reinitializes the environment.\n",
    "        Used when we are training a single agent\n",
    "        \"\"\"\n",
    "        ## generate grid\n",
    "        self.grid = np.zeros((ENV_SIZE, ENV_SIZE), dtype=np.uint8)\n",
    "        \n",
    "        ## place people and zombies\n",
    "        rands = [random.uniform(0, 1) for i in range(ENV_SIZE**2)]\n",
    "        r = random.randint(0, ENV_SIZE**2-1)\n",
    "        self.humans_pos = []\n",
    "        self.zombies_pos = []\n",
    "        for y in range(ENV_SIZE):\n",
    "            for x in range(ENV_SIZE):\n",
    "                if rands[y * ENV_SIZE + x] < POP_DENSITY:\n",
    "                    if rands[y * ENV_SIZE + x] < POP_DENSITY * ZOMBIE_FRACTION:\n",
    "                        self.grid[y, x] = ZOMBIE_CELL\n",
    "                        self.zombies_pos.append((y, x))\n",
    "                    else:\n",
    "                        self.grid[y, x] = HUMAN_CELL\n",
    "                        self.humans_pos.append((y, x))\n",
    "                    \n",
    "        # place agent\n",
    "        self.agent_x = random.randint(0, ENV_SIZE-1)\n",
    "        self.agent_y = random.randint(0, ENV_SIZE-1)\n",
    "        while self.grid[self.agent_y, self.agent_x] != EMPTY_CELL:\n",
    "            self.agent_x = random.randint(0, ENV_SIZE-1)\n",
    "            self.agent_y = random.randint(0, ENV_SIZE-1)\n",
    "        self.grid[self.agent_y, self.agent_x] = AGENT_CELL\n",
    "        \n",
    "        # remove zombies too close to the agent when the episode starts\n",
    "        for y in [(self.agent_y-1)%ENV_SIZE, self.agent_y, (self.agent_y+1)%ENV_SIZE]:\n",
    "            for x in [(self.agent_x-1)%ENV_SIZE, self.agent_x, (self.agent_x+1)%ENV_SIZE]:\n",
    "                if self.grid[y, x] == ZOMBIE_CELL:\n",
    "                    self.grid[y, x] = EMPTY_CELL\n",
    "                    self.zombies_pos.remove((y, x))\n",
    "        \n",
    "        self.episode_step = 0\n",
    "        state = self.scan_env(self.agent_x, self.agent_y)\n",
    "        \n",
    "        return state\n",
    "    \n",
    "    def step(self, action):\n",
    "        \"\"\"\n",
    "        Perform one time step, includes agent's action, zombies movmement,\n",
    "        interaction handling etc...\n",
    "        \"\"\"\n",
    "        self.episode_step += 1\n",
    "        self.perform_action(action)\n",
    "        self.zombies_pos = self.move_zombies_chase()\n",
    "        for y,x in self.zombies_pos:\n",
    "            assert self.grid[y,x] == ZOMBIE_CELL\n",
    "        \n",
    "        # Store the humans and zombies that died in this episode\n",
    "        dead_humans = set()\n",
    "        dead_zombies = set()\n",
    "        \n",
    "        nb_allies, enemies = self.scan_vicinity(self.agent_x, self.agent_y)\n",
    "        \n",
    "        # Handle agent's interactions\n",
    "        dead = False\n",
    "        reward = REST_REWARD if action == 0 else MOVE_REWARD\n",
    "        if len(enemies) > 0: # Contact\n",
    "            for enemy in enemies:\n",
    "                r = np.random.uniform(0, 1)\n",
    "                b = B\n",
    "                k = (1 + nb_allies*4) # << S\n",
    "                if r >= b/(b+k): # kill\n",
    "                    reward += KILL_REWARD\n",
    "                    assert self.grid[enemy] == ZOMBIE_CELL\n",
    "                    self.grid[enemy] = EMPTY_CELL\n",
    "                    dead_zombies.add(enemy)\n",
    "                else: # death\n",
    "                    reward += DEATH_REWARD\n",
    "                    dead = True\n",
    "                    break\n",
    "        \n",
    "        if self.episode_step >= MAX_ENV_STEPS:\n",
    "            reward += SURVIVE_REWARD\n",
    "        done = self.episode_step >= MAX_ENV_STEPS or dead\n",
    "        \n",
    "        # Handle all other interactions\n",
    "        for (y, x) in self.humans_pos:\n",
    "            assert self.grid[y, x] == HUMAN_CELL\n",
    "            nb_allies, enemies = self.scan_vicinity(x, y)\n",
    "            if len(enemies) > 0:\n",
    "                for enemy in enemies:\n",
    "                    r = np.random.uniform(0, 1)\n",
    "                    b = B\n",
    "                    k = 1 + nb_allies*2 # << S\n",
    "                    if r >= b/(b+k): # kill\n",
    "                        assert self.grid[enemy] == ZOMBIE_CELL\n",
    "                        self.grid[enemy] = EMPTY_CELL\n",
    "                        dead_zombies.add(enemy)\n",
    "                    else: # death\n",
    "                        assert self.grid[y, x] == HUMAN_CELL\n",
    "                        self.grid[y, x] = ZOMBIE_CELL\n",
    "                        self.zombies_pos.append((y, x))\n",
    "                        dead_humans.add((y, x))\n",
    "                        break\n",
    "        \n",
    "        # Clean the dead\n",
    "        for dead_human in dead_humans:\n",
    "            self.humans_pos.remove(dead_human)\n",
    "        for dead_zombie in dead_zombies:\n",
    "            self.zombies_pos.remove(dead_zombie)\n",
    "        \n",
    "        state = self.scan_env(self.agent_x, self.agent_y)\n",
    "        \n",
    "        return state, reward, done, None\n",
    "    \n",
    "    def multistep(self):\n",
    "        \"\"\"\n",
    "        Perform 1 step in the environment.\n",
    "        Only moves zombies and handles interactions\n",
    "        \"\"\"\n",
    "        self.episode_step += 1\n",
    "        if self.episode_step >= WARMUP_TIME:\n",
    "            self.zombies_pos = self.multi_move_zombies()\n",
    "        \n",
    "        for y, x in self.zombies_pos:\n",
    "            assert self.grid[y, x] == ZOMBIE_CELL\n",
    "        \n",
    "        dead_humans = set()\n",
    "        dead_zombies = set()\n",
    "        \n",
    "        reward = 0\n",
    "        \n",
    "        # Handle all interactions\n",
    "        for (y, x) in self.humans_pos:\n",
    "            assert self.grid[y, x] == HUMAN_CELL\n",
    "            nb_allies, enemies = self.scan_vicinity(x, y)\n",
    "            if len(enemies) > 0:\n",
    "                for enemy in enemies:\n",
    "                    r = np.random.uniform(0, 1)\n",
    "                    b = B\n",
    "                    k = 1 + nb_allies*2 # << S\n",
    "                    if r >= b/(b+k): # kill\n",
    "                        reward += KILL_REWARD\n",
    "                        assert self.grid[enemy] == ZOMBIE_CELL\n",
    "                        self.grid[enemy] = EMPTY_CELL\n",
    "                        dead_zombies.add(enemy)\n",
    "                    else: # death\n",
    "                        assert self.grid[y, x] == HUMAN_CELL\n",
    "                        self.grid[y, x] = ZOMBIE_CELL\n",
    "                        self.zombies_pos.append((y, x))\n",
    "                        dead_humans.add((y, x))\n",
    "                        reward += DEATH_REWARD\n",
    "                        break\n",
    "        \n",
    "        # Clean the dead\n",
    "        for dead_human in dead_humans:\n",
    "            self.humans_pos.remove(dead_human)\n",
    "        for dead_zombie in dead_zombies:\n",
    "            self.zombies_pos.remove(dead_zombie)\n",
    "            \n",
    "        if self.episode_step >= MAX_ENV_STEPS_SIMU:\n",
    "            reward += SURVIVE_REWARD * len(self.humans_pos)\n",
    "        done = self.episode_step >= MAX_ENV_STEPS or len(self.humans_pos) == 0 or len(self.zombies_pos) == 0\n",
    "        \n",
    "        return reward, done\n",
    "    \n",
    "    def scan_vicinity(self, x, y):\n",
    "        \"\"\"\n",
    "        Scan the 8 neighboring cells to record allies and enemies\n",
    "        \"\"\"\n",
    "        enemies = []\n",
    "        nb_allies = 0\n",
    "        for j in [(y-1)%ENV_SIZE, y, (y+1)%ENV_SIZE]:\n",
    "            for i in [(x-1)%ENV_SIZE, x, (x+1)%ENV_SIZE]:\n",
    "                if not (j == y and i == x):\n",
    "                    if self.grid[j, i] == HUMAN_CELL:\n",
    "                        nb_allies += 1\n",
    "                    elif self.grid[j, i] == ZOMBIE_CELL and (j == y or i == x):\n",
    "                        enemies.append((j, i))\n",
    "        return nb_allies, enemies\n",
    "    \n",
    "    def scan_env(self, x, y):\n",
    "        \"\"\"\n",
    "        Scan a square around the given coordinates to return the current state\n",
    "        \"\"\"\n",
    "        state = np.zeros((STATE_SIZE,))\n",
    "        k = 0\n",
    "        for j in range(y - VISIBILITY, y + VISIBILITY+1):\n",
    "            for i in range(x - VISIBILITY, x + VISIBILITY+1):\n",
    "                state[k] = self.grid[j%ENV_SIZE, i%ENV_SIZE]\n",
    "                k += 1\n",
    "        state = state.reshape((1, STATE_ROOT_SIZE, STATE_ROOT_SIZE))\n",
    "        state = np.ascontiguousarray(state, dtype=np.float32)\n",
    "        state = torch.from_numpy(state)\n",
    "        state = state.unsqueeze(0)\n",
    "        return state\n",
    "    \n",
    "    def perform_action(self, action):\n",
    "        \"\"\"\n",
    "        Let the agent perform an action (used in the single agent case)\n",
    "        \"\"\"\n",
    "        x = self.agent_x\n",
    "        y = self.agent_y\n",
    "        if action == 0:\n",
    "            return\n",
    "        if action == 1: #move right\n",
    "            self.agent_x = (self.agent_x + 1) % ENV_SIZE\n",
    "        elif action == 2: #move left\n",
    "            self.agent_x = (self.agent_x - 1) % ENV_SIZE\n",
    "        elif action == 3: #move top\n",
    "            self.agent_y = (self.agent_y + 1) % ENV_SIZE\n",
    "        else: #move down\n",
    "            self.agent_y = (self.agent_y - 1) % ENV_SIZE\n",
    "        if self.grid[self.agent_y, self.agent_x] != EMPTY_CELL: # If cell not empty\n",
    "            self.agent_x = x\n",
    "            self.agent_y = y\n",
    "        else:\n",
    "            self.grid[y, x] = EMPTY_CELL\n",
    "            self.grid[self.agent_y, self.agent_x] = AGENT_CELL\n",
    "            \n",
    "    def act(self, x, y, action):\n",
    "        \"\"\"\n",
    "        Let the human perform an action (used in the multi-agent case)\n",
    "        \"\"\"\n",
    "        if action == 0:\n",
    "            return\n",
    "        old_x = x\n",
    "        old_y = y\n",
    "        if action == 1: #move right\n",
    "            x = (x + 1) % ENV_SIZE\n",
    "        elif action == 2: #move left\n",
    "            x = (x - 1) % ENV_SIZE\n",
    "        elif action == 3: #move top\n",
    "            y = (y + 1) % ENV_SIZE\n",
    "        else: #move down\n",
    "            y = (y - 1) % ENV_SIZE\n",
    "        if self.grid[y, x] == EMPTY_CELL: # If cell not empty\n",
    "            self.grid[old_y, old_x] = EMPTY_CELL\n",
    "            self.grid[y, x] = HUMAN_CELL\n",
    "            self.humans_pos.remove((old_y, old_x))\n",
    "            self.humans_pos.append((y, x))\n",
    "    \n",
    "    def verify_env(self):\n",
    "        \"\"\"\n",
    "        Asserts we have only one agent in the environment (in the single-agent case)\n",
    "        Used for debugging\n",
    "        \"\"\"\n",
    "        nb_agents = 0\n",
    "        for j in range(ENV_SIZE):\n",
    "            for i in range(ENV_SIZE):\n",
    "                if self.grid[j, i] == AGENT_CELL:\n",
    "                    nb_agents += 1\n",
    "        assert nb_agents == 1\n",
    "    \n",
    "    def move_zombies_random(self):\n",
    "        \"\"\"\n",
    "        Move zombies randomly\n",
    "        \"\"\"\n",
    "        new_pos = []\n",
    "        for (y, x) in self.zombies_pos:\n",
    "            action = np.random.randint(1, 5)\n",
    "            old_x = x\n",
    "            old_y = y\n",
    "            if action == 1: #move right\n",
    "                x = (x + 1) % ENV_SIZE\n",
    "            elif action == 2: #move left\n",
    "                x = (x - 1) % ENV_SIZE\n",
    "            elif action == 3: #move top\n",
    "                y = (y + 1) % ENV_SIZE\n",
    "            else: #move down\n",
    "                y = (y - 1) % ENV_SIZE\n",
    "                \n",
    "            if self.grid[y, x] != EMPTY_CELL:\n",
    "                x = old_x\n",
    "                y = old_y\n",
    "            else:\n",
    "                self.grid[old_y, old_x] = EMPTY_CELL\n",
    "                self.grid[y, x] = ZOMBIE_CELL\n",
    "            new_pos.append((y, x))\n",
    "        return new_pos\n",
    "    \n",
    "    def move_zombies_chase(self):\n",
    "        \"\"\"\n",
    "        Make the zombies chase the agent (Used in the single agent case)\n",
    "        \"\"\"\n",
    "        l1 = len(self.zombies_pos)\n",
    "        new_pos = []\n",
    "        for (y, x) in self.zombies_pos:\n",
    "            assert self.grid[y, x] == ZOMBIE_CELL, f\"Cell: {self.grid[y, x]}\"\n",
    "            target_x = self.agent_x\n",
    "            target_y = self.agent_y\n",
    "            dx = np.sign(target_x - x)\n",
    "            dy = np.sign(target_y - y)\n",
    "            a = random.randint(0, 1)\n",
    "            new_x = x\n",
    "            new_y = y\n",
    "            if a == 0:\n",
    "                new_x = (x + dx) % ENV_SIZE\n",
    "            else:\n",
    "                new_y = (y + dy) % ENV_SIZE\n",
    "                \n",
    "            if self.grid[new_y, new_x] != EMPTY_CELL:\n",
    "                new_x = x\n",
    "                new_y = y\n",
    "            else:\n",
    "                assert self.grid[y, x] == ZOMBIE_CELL\n",
    "                self.grid[y, x] = EMPTY_CELL\n",
    "                assert self.grid[new_y, new_x] == EMPTY_CELL\n",
    "                self.grid[new_y, new_x] = ZOMBIE_CELL\n",
    "            assert self.grid[new_y, new_x] == ZOMBIE_CELL\n",
    "            new_pos.append((new_y, new_x))\n",
    "        l2 = len(list(dict.fromkeys(new_pos)))\n",
    "        assert l1 == l2, f\"l1:{l1}, l2:{l2}\"\n",
    "        return new_pos\n",
    "    \n",
    "    def get_nearest_human(self, x, y):\n",
    "        \"\"\"\n",
    "        Get the human that nearest to the zombie's coordinates (Manhattan distance) or return None\n",
    "        \"\"\"\n",
    "        closest_x = None\n",
    "        closest_y = None\n",
    "        min_dist = 1000000\n",
    "        \n",
    "        for j in range(y - ZOMBIE_VISIBILITY, y + ZOMBIE_VISIBILITY+1):\n",
    "            for i in range(x - ZOMBIE_VISIBILITY, x + ZOMBIE_VISIBILITY+1):\n",
    "                if self.grid[j%ENV_SIZE, i%ENV_SIZE] == HUMAN_CELL:\n",
    "                    temp_dist = abs(i - x) + abs(j - y)\n",
    "                    if temp_dist < min_dist:\n",
    "                        min_dist = temp_dist\n",
    "                        closest_x = i\n",
    "                        closest_y = j\n",
    "        return closest_x, closest_y\n",
    "    \n",
    "    def multi_move_zombies(self):\n",
    "        \"\"\"\n",
    "        Make the zombies chase the nearest human or move randomly if not human found\n",
    "        \"\"\"\n",
    "        new_pos = []\n",
    "        for (y, x) in self.zombies_pos:\n",
    "            target_x, target_y = self.get_nearest_human(x, y)\n",
    "            if target_x is None:\n",
    "                dx = np.random.choice([1, -1])\n",
    "                dy = np.random.choice([1, -1])\n",
    "            else:\n",
    "                dx = np.sign(target_x - x)\n",
    "                dy = np.sign(target_y - y)\n",
    "            a = random.randint(0, 1)\n",
    "            new_x = x\n",
    "            new_y = y\n",
    "            if a == 0:\n",
    "                new_x = (x + dx) % ENV_SIZE\n",
    "            else:\n",
    "                new_y = (y + dy) % ENV_SIZE\n",
    "                \n",
    "            if self.grid[new_y, new_x] != EMPTY_CELL:\n",
    "                new_x = x\n",
    "                new_y = y\n",
    "            else:\n",
    "                self.grid[y, x] = EMPTY_CELL\n",
    "                self.grid[new_y, new_x] = ZOMBIE_CELL\n",
    "            new_pos.append((new_y, new_x))\n",
    "        return new_pos\n",
    "        \n",
    "    def get_nb_survivors(self):\n",
    "        \"\"\"\n",
    "        Called at the end of an episode to count the number of human surviving the episode\n",
    "        \"\"\"\n",
    "        return len(self.humans_pos)\n",
    "        \n",
    "    def render(self):\n",
    "        \"\"\"\n",
    "        Renders the environment for visualization\n",
    "        \"\"\"\n",
    "        img = self.get_image()\n",
    "        img = img.resize((400, 400), resample=0)\n",
    "        cv2.imshow(\"image\", np.array(img))\n",
    "        cv2.waitKey(1)\n",
    "    \n",
    "    def get_image(self):\n",
    "        \"\"\"\n",
    "        Transform the environment to an image that can be rendered\n",
    "        \"\"\"\n",
    "        env = np.zeros((ENV_SIZE, ENV_SIZE, 3), dtype=np.uint8)  # starts an rbg of our size\n",
    "        for j in range(ENV_SIZE):\n",
    "            for i in range(ENV_SIZE):\n",
    "                env[j, i] = colors[self.grid[j, i]]\n",
    "        img = Image.fromarray(env, 'RGB')  # reading to rgb. Apparently. Even tho color definitions are bgr. ???\n",
    "        return img"
   ]
  },
  {
   "cell_type": "markdown",
   "metadata": {},
   "source": [
    "### Replay memory"
   ]
  },
  {
   "cell_type": "code",
   "execution_count": 38,
   "metadata": {},
   "outputs": [],
   "source": [
    "Transition = namedtuple('Transition', ('state', 'action', 'next_state', 'reward'))\n",
    "\n",
    "class ReplayMemory(object):\n",
    "    \"\"\"\n",
    "    Buffer to store the collected experiences\n",
    "    \"\"\"\n",
    "    def __init__(self, capacity):\n",
    "        self.memory = deque([], maxlen=capacity)\n",
    "        \n",
    "    def push(self, *args):\n",
    "        self.memory.append(Transition(*args))\n",
    "        \n",
    "    def sample(self, batch_size):\n",
    "        return random.sample(self.memory, batch_size)\n",
    "    \n",
    "    def __len__(self):\n",
    "        return len(self.memory)"
   ]
  },
  {
   "cell_type": "markdown",
   "metadata": {},
   "source": [
    "### DQN"
   ]
  },
  {
   "cell_type": "code",
   "execution_count": 39,
   "metadata": {},
   "outputs": [],
   "source": [
    "class DQN(nn.Module):\n",
    "    \"\"\"\n",
    "    Deep Q-Network used as an approximator to the true Q-Function\n",
    "    \"\"\"\n",
    "    def __init__(self, w, h, action_size):\n",
    "        super(DQN, self).__init__()\n",
    "        self.seed = torch.manual_seed(0)\n",
    "        self.conv1 = nn.Conv2d(1, 16, kernel_size=3, stride=2)\n",
    "        self.bn1 = nn.BatchNorm2d(16)\n",
    "        self.conv2 = nn.Conv2d(16, 32, kernel_size=3, stride=2)\n",
    "        self.bn2 = nn.BatchNorm2d(32)\n",
    "\n",
    "        # Number of Linear input connections depends on output of conv2d layers\n",
    "        # and therefore the input image size, so compute it.\n",
    "        def conv2d_size_out(size, kernel_size = 3, stride = 2):\n",
    "            return (size - (kernel_size - 1) - 1) // stride  + 1\n",
    "        \n",
    "        convw = conv2d_size_out(conv2d_size_out(w))\n",
    "        convh = conv2d_size_out(conv2d_size_out(h))\n",
    "        linear_input_size = convw * convh * 32\n",
    "        self.fc = nn.Linear(linear_input_size, 32)\n",
    "        self.head = nn.Linear(32, action_size)\n",
    "        \n",
    "    def forward(self, x):\n",
    "        x = x.to(device)\n",
    "        x = F.relu(self.bn1(self.conv1(x)))\n",
    "        x = F.relu(self.bn2(self.conv2(x)))\n",
    "        x = self.fc(x.view(x.size(0), -1))\n",
    "        return self.head(nn.ReLU()(x))"
   ]
  },
  {
   "cell_type": "markdown",
   "metadata": {},
   "source": [
    "### DQL Agent"
   ]
  },
  {
   "cell_type": "code",
   "execution_count": 40,
   "metadata": {},
   "outputs": [],
   "source": [
    "class DQLAgent():\n",
    "    \"\"\"\n",
    "    The Deep Q-Learning agent that we train to perform in our environment\n",
    "    \"\"\"\n",
    "    def __init__(self, env):\n",
    "        self.env = env\n",
    "        \n",
    "        # DQNs\n",
    "        self.policy_net = DQN(STATE_ROOT_SIZE, STATE_ROOT_SIZE, ACTION_SIZE).to(device)\n",
    "        self.target_net = DQN(STATE_ROOT_SIZE, STATE_ROOT_SIZE, ACTION_SIZE).to(device)\n",
    "        self.target_net.load_state_dict(self.policy_net.state_dict())\n",
    "        self.target_net.eval()\n",
    "        \n",
    "        self.optimizer = optim.Adam(self.policy_net.parameters(), lr=LEARNING_RATE)\n",
    "        self.memory = ReplayMemory(BUFFER_SIZE)\n",
    "        \n",
    "        self.time_step = 0\n",
    "        \n",
    "    def optimize_model(self):\n",
    "        \"\"\"\n",
    "        Back propagate through the neural network to progressively learn the Q-Function\n",
    "        \"\"\"\n",
    "        if len(self.memory) < BATCH_SIZE:\n",
    "            return\n",
    "        transitions = self.memory.sample(BATCH_SIZE)\n",
    "        batch = Transition(*zip(*transitions))\n",
    "        non_final_mask = torch.tensor(tuple(map(lambda s: s is not None, batch.next_state)), device=device, dtype=torch.bool)\n",
    "        non_final_next_states = torch.cat([s for s in batch.next_state if s is not None])\n",
    "        state_batch = torch.cat(batch.state)\n",
    "        action_batch = torch.cat(batch.action)\n",
    "        reward_batch = torch.cat(batch.reward)\n",
    "        \n",
    "        state_action_values = self.policy_net(state_batch).gather(1, action_batch)\n",
    "        \n",
    "        next_state_values = torch.zeros(BATCH_SIZE, device=device)\n",
    "        next_state_values[non_final_mask] = self.target_net(non_final_next_states).max(1)[0].detach()\n",
    "        expected_state_action_values = next_state_values * GAMMA + reward_batch\n",
    "        \n",
    "        criterion = nn.SmoothL1Loss()\n",
    "        loss = criterion(state_action_values, expected_state_action_values.unsqueeze(1))\n",
    "        \n",
    "        self.optimizer.zero_grad()\n",
    "        loss.backward()\n",
    "        for param in self.policy_net.parameters():\n",
    "            param.grad.data.clamp_(-1, 1)\n",
    "        self.optimizer.step()\n",
    "        \n",
    "    def select_action(self, state, train=True, random_actions=False):\n",
    "        \"\"\"\n",
    "        Select an action to perform given an input state\n",
    "        Depends on whether we are training or if we explicitely want random actions\n",
    "        The implemented policy is epsilon-greedy\n",
    "        \"\"\"\n",
    "        sample = random.random()\n",
    "        if random_actions:\n",
    "            return torch.tensor([[random.randrange(ACTION_SIZE)]], device=device, dtype=torch.long)\n",
    "        if train:\n",
    "            eps_threshold = EPS_END + (EPS_START - EPS_END) * math.exp(-1. * self.time_step / EPS_DECAY)\n",
    "            if sample > eps_threshold:\n",
    "                with torch.no_grad():\n",
    "                    return self.policy_net(state).max(1)[1].view(1, 1)\n",
    "            else:\n",
    "                return torch.tensor([[random.randrange(ACTION_SIZE)]], device=device, dtype=torch.long)\n",
    "        else:\n",
    "            with torch.no_grad():\n",
    "                return self.target_net(state).max(1)[1].view(1, 1)\n",
    "    \n",
    "    def play(self):\n",
    "        \"\"\"\n",
    "        Simulate the agent in the environment (Single agent case)\n",
    "        \"\"\"\n",
    "        state = self.env.reset() # get initial state\n",
    "        episode_reward = 0\n",
    "        for t in count():\n",
    "            action = self.select_action(state, train=False)\n",
    "            next_state, reward, done, _ = self.env.step(action.item())\n",
    "            episode_reward += reward\n",
    "            state = next_state\n",
    "            self.env.render()\n",
    "            time.sleep(0.25)\n",
    "            if done:\n",
    "                break\n",
    "        print(episode_reward)\n",
    "        \n",
    "    def multiplay(self, random_actions=False, render=True):\n",
    "        \"\"\"\n",
    "        Simulate the agents in the environment (Multi-agent case)\n",
    "        \"\"\"\n",
    "        self.env.multireset() # get initial state\n",
    "        episode_reward = 0\n",
    "        for t in count():\n",
    "            # all agents need to perform an action\n",
    "            for agent in env.humans_pos:\n",
    "                agent_state = self.env.scan_env(agent[1], agent[0])\n",
    "                action = self.select_action(agent_state, train=False, random_actions=random_actions)\n",
    "                self.env.act(agent[1], agent[0], action.item())\n",
    "            reward, done = self.env.multistep()\n",
    "            episode_reward += reward\n",
    "            if render:\n",
    "                self.env.render()\n",
    "                time.sleep(0.25)\n",
    "            if done:\n",
    "                nb_survivors = env.get_nb_survivors()\n",
    "                break\n",
    "        return nb_survivors\n",
    "    \n",
    "    def train(self, num_episodes):\n",
    "        \"\"\"\n",
    "        Main train loop.\n",
    "        Train the DQL Agent for a given number of episodes and collect statistics\n",
    "        Plot the statistics after training\n",
    "        \"\"\"\n",
    "        episode_rewards = []\n",
    "        avg_rewards = []\n",
    "        min_rewards = []\n",
    "        max_rewards = []\n",
    "        for episode in tqdm(range(num_episodes)):\n",
    "            state = self.env.reset() # get initial state\n",
    "            episode_reward = 0\n",
    "            for t in count(): # The environment is responsible for returning done=True after some number of time steps\n",
    "                action = self.select_action(state)\n",
    "                next_state, reward, done, _ = self.env.step(action.item())\n",
    "                episode_reward += reward\n",
    "                reward = torch.tensor([reward], device=device)\n",
    "                \n",
    "                self.memory.push(state, action, next_state, reward)\n",
    "                state = next_state\n",
    "                \n",
    "                self.optimize_model()\n",
    "                if done:\n",
    "                    # TODO: Plot some statistics etc...\n",
    "                    break\n",
    "            \n",
    "            episode_rewards.append(episode_reward)\n",
    "            \n",
    "            if episode % TARGET_UPDATE_EVERY == 0:\n",
    "                self.target_net.load_state_dict(self.policy_net.state_dict())\n",
    "                \n",
    "            if episode % AGGREGATE_STATS_EVERY == 0:\n",
    "                avg_reward = sum(episode_rewards[-AGGREGATE_STATS_EVERY:])/len(episode_rewards[-AGGREGATE_STATS_EVERY:])\n",
    "                min_reward = min(episode_rewards[-AGGREGATE_STATS_EVERY:])\n",
    "                max_reward = max(episode_rewards[-AGGREGATE_STATS_EVERY:])\n",
    "                avg_rewards.append(avg_reward)\n",
    "                min_rewards.append(min_reward)\n",
    "                max_rewards.append(max_reward)\n",
    "                \n",
    "            if SHOW_ENV and episode % SHOW_ENV_EVERY == 0:\n",
    "                self.env.render()\n",
    "        print(\"Training finished\")\n",
    "        print(\"Rewards evolution\")\n",
    "        plt.title('Reward evolution')\n",
    "        plt.plot(avg_rewards, label='average rewards')\n",
    "        plt.plot(min_rewards, label='minimum rewards')\n",
    "        plt.plot(max_rewards, label='maximum rewards')\n",
    "        plt.legend(loc='upper right')\n",
    "        plt.xlabel('Episodes')\n",
    "        plt.ylabel('Rewards')\n",
    "        locs, labels = plt.xticks()\n",
    "        new_xticks = [d*AGGREGATE_STATS_EVERY for d in locs]\n",
    "        plt.xticks(locs, new_xticks)\n",
    "        plt.show()\n",
    "        return episode_rewards"
   ]
  },
  {
   "cell_type": "markdown",
   "metadata": {},
   "source": [
    "# Train the agent"
   ]
  },
  {
   "cell_type": "code",
   "execution_count": 26,
   "metadata": {},
   "outputs": [
    {
     "name": "stdout",
     "output_type": "stream",
     "text": [
      "Initializing environment\n"
     ]
    },
    {
     "name": "stderr",
     "output_type": "stream",
     "text": [
      "100%|██████████████████████████████████████████████████████████████████████████████| 2000/2000 [06:27<00:00,  5.16it/s]\n"
     ]
    },
    {
     "name": "stdout",
     "output_type": "stream",
     "text": [
      "Training finished\n",
      "Rewards evolution\n"
     ]
    },
    {
     "data": {
      "image/png": "[encoded data removed]",
      "text/plain": [
       "<Figure size 432x288 with 1 Axes>"
      ]
     },
     "metadata": {
      "needs_background": "light"
     },
     "output_type": "display_data"
    }
   ],
   "source": [
    "env = Environment()\n",
    "dqlAgent = DQLAgent(env)\n",
    "rewards = dqlAgent.train(NUM_EPISODES)\n",
    "np.save(f\"rewards_{NUM_EPISODES}_0_I.npy\", rewards, allow_pickle=False)"
   ]
  },
  {
   "cell_type": "code",
   "execution_count": 41,
   "metadata": {},
   "outputs": [
    {
     "name": "stdout",
     "output_type": "stream",
     "text": [
      "Initializing environment\n"
     ]
    },
    {
     "name": "stderr",
     "output_type": "stream",
     "text": [
      "100%|██████████████████████████████████████████████████████████████████████████████| 2000/2000 [06:37<00:00,  5.03it/s]\n"
     ]
    },
    {
     "name": "stdout",
     "output_type": "stream",
     "text": [
      "Training finished\n",
      "Rewards evolution\n"
     ]
    },
    {
     "data": {
      "image/png": "[encoded data removed]",
      "text/plain": [
       "<Figure size 432x288 with 1 Axes>"
      ]
     },
     "metadata": {
      "needs_background": "light"
     },
     "output_type": "display_data"
    }
   ],
   "source": [
    "env = Environment()\n",
    "dqlAgent = DQLAgent(env)\n",
    "rewards = dqlAgent.train(NUM_EPISODES)\n",
    "np.save(f\"rewards_{NUM_EPISODES}_0_II.npy\", rewards, allow_pickle=False)"
   ]
  },
  {
   "cell_type": "markdown",
   "metadata": {},
   "source": [
    "# Run the simulation"
   ]
  },
  {
   "cell_type": "markdown",
   "metadata": {},
   "source": [
    "#### Before training"
   ]
  },
  {
   "cell_type": "code",
   "execution_count": null,
   "metadata": {
    "scrolled": false
   },
   "outputs": [],
   "source": [
    "dqlAgent.multiplay(random_actions=True)"
   ]
  },
  {
   "cell_type": "markdown",
   "metadata": {},
   "source": [
    "#### After training"
   ]
  },
  {
   "cell_type": "code",
   "execution_count": null,
   "metadata": {},
   "outputs": [],
   "source": [
    "dqlAgent.multiplay(random_actions=False)"
   ]
  },
  {
   "cell_type": "markdown",
   "metadata": {},
   "source": [
    "### Comparing the 2 reward functions"
   ]
  },
  {
   "cell_type": "code",
   "execution_count": 27,
   "metadata": {},
   "outputs": [],
   "source": [
    "test_N = 200 # Number of testing simulations to run"
   ]
  },
  {
   "cell_type": "markdown",
   "metadata": {},
   "source": [
    "#### Reward I"
   ]
  },
  {
   "cell_type": "markdown",
   "metadata": {},
   "source": [
    "DEATH_REWARD = -20\n",
    "\n",
    "KILL_REWARD = 2\n",
    "\n",
    "SURVIVE_REWARD = 20"
   ]
  },
  {
   "cell_type": "code",
   "execution_count": 28,
   "metadata": {},
   "outputs": [
    {
     "name": "stderr",
     "output_type": "stream",
     "text": [
      "100%|██████████████████████████████████████████████████████████████████████████████| 200/200 [1:21:03<00:00, 24.32s/it]\n"
     ]
    }
   ],
   "source": [
    "survivors_stats = []\n",
    "for i in tqdm(range(test_N)):\n",
    "    nb_survivors = dqlAgent.multiplay(random_actions=False, render=False)\n",
    "    survivors_stats.append(nb_survivors)"
   ]
  },
  {
   "cell_type": "code",
   "execution_count": 30,
   "metadata": {},
   "outputs": [],
   "source": [
    "np.save(f\"survivors_stats_{test_N}_reward-1.npy\", survivors_stats, allow_pickle=False)"
   ]
  },
  {
   "cell_type": "code",
   "execution_count": 54,
   "metadata": {},
   "outputs": [],
   "source": [
    "survivors_stats_1 = np.load(\"survivors_stats_200_reward-1.npy\", allow_pickle=False)"
   ]
  },
  {
   "cell_type": "code",
   "execution_count": 55,
   "metadata": {},
   "outputs": [
    {
     "name": "stdout",
     "output_type": "stream",
     "text": [
      "Mean:               138.99\n",
      "Standard deviation: 59.25\n"
     ]
    },
    {
     "data": {
      "image/png": "[encoded data removed]",
      "text/plain": [
       "<Figure size 432x288 with 1 Axes>"
      ]
     },
     "metadata": {
      "needs_background": "light"
     },
     "output_type": "display_data"
    }
   ],
   "source": [
    "plt.hist(survivors_stats_1, bins=20)\n",
    "plt.title('Number of human survivors at the end of episodes')\n",
    "print(f\"Mean:               {np.mean(survivors_stats_1):.2f}\")\n",
    "print(f\"Standard deviation: {np.std(survivors_stats_1):.2f}\")"
   ]
  },
  {
   "cell_type": "markdown",
   "metadata": {},
   "source": [
    "#### Reward II"
   ]
  },
  {
   "cell_type": "markdown",
   "metadata": {},
   "source": [
    "DEATH_REWARD = -20\n",
    "\n",
    "KILL_REWARD = 2\n",
    "\n",
    "SURVIVE_REWARD = 0"
   ]
  },
  {
   "cell_type": "code",
   "execution_count": 42,
   "metadata": {},
   "outputs": [
    {
     "name": "stderr",
     "output_type": "stream",
     "text": [
      "100%|██████████████████████████████████████████████████████████████████████████████| 200/200 [1:22:19<00:00, 24.70s/it]\n"
     ]
    }
   ],
   "source": [
    "survivors_stats = []\n",
    "for i in tqdm(range(test_N)):\n",
    "    nb_survivors = dqlAgent.multiplay(random_actions=False, render=False)\n",
    "    survivors_stats.append(nb_survivors)"
   ]
  },
  {
   "cell_type": "code",
   "execution_count": 43,
   "metadata": {},
   "outputs": [],
   "source": [
    "np.save(f\"survivors_stats_{test_N}_reward-2.npy\", survivors_stats, allow_pickle=False)"
   ]
  },
  {
   "cell_type": "code",
   "execution_count": 52,
   "metadata": {},
   "outputs": [],
   "source": [
    "survivors_stats_2 = np.load(\"survivors_stats_200_reward-2.npy\", allow_pickle=False)"
   ]
  },
  {
   "cell_type": "code",
   "execution_count": 53,
   "metadata": {},
   "outputs": [
    {
     "name": "stdout",
     "output_type": "stream",
     "text": [
      "Mean:               152.11\n",
      "Standard deviation: 54.00\n"
     ]
    },
    {
     "data": {
      "image/png": "[encoded data removed]",
      "text/plain": [
       "<Figure size 432x288 with 1 Axes>"
      ]
     },
     "metadata": {
      "needs_background": "light"
     },
     "output_type": "display_data"
    }
   ],
   "source": [
    "plt.hist(survivors_stats_2, bins=20)\n",
    "plt.title('Number of human survivors at the end of episodes')\n",
    "print(f\"Mean:               {np.mean(survivors_stats_2):.2f}\")\n",
    "print(f\"Standard deviation: {np.std(survivors_stats_2):.2f}\")"
   ]
  },
  {
   "cell_type": "markdown",
   "metadata": {},
   "source": [
    "#### Combine the results"
   ]
  },
  {
   "cell_type": "code",
   "execution_count": 58,
   "metadata": {},
   "outputs": [
    {
     "name": "stdout",
     "output_type": "stream",
     "text": [
      "Type-I reward:\n",
      "\tMean:               138.99\n",
      "\tStandard deviation: 59.25\n",
      "Type-II reward:\n",
      "\tMean:               152.11\n",
      "\tStandard deviation: 54.00\n"
     ]
    },
    {
     "data": {
      "image/png": "[encoded data removed]",
      "text/plain": [
       "<Figure size 432x288 with 1 Axes>"
      ]
     },
     "metadata": {
      "needs_background": "light"
     },
     "output_type": "display_data"
    }
   ],
   "source": [
    "plt.hist(survivors_stats_1, bins=20, alpha=0.7, label='Type-I reward')\n",
    "plt.hist(survivors_stats_2, bins=20, alpha=0.7, label='Type-II reward')\n",
    "plt.legend()\n",
    "plt.title('Number of human survivors at the end of episodes')\n",
    "print(\"Type-I reward:\")\n",
    "print(f\"\\tMean:               {np.mean(survivors_stats_1):.2f}\")\n",
    "print(f\"\\tStandard deviation: {np.std(survivors_stats_1):.2f}\")\n",
    "print(\"Type-II reward:\")\n",
    "print(f\"\\tMean:               {np.mean(survivors_stats_2):.2f}\")\n",
    "print(f\"\\tStandard deviation: {np.std(survivors_stats_2):.2f}\")"
   ]
  },
  {
   "cell_type": "code",
   "execution_count": null,
   "metadata": {},
   "outputs": [],
   "source": []
  }
 ],
 "metadata": {
  "kernelspec": {
   "display_name": "Python 3 (ipykernel)",
   "language": "python",
   "name": "python3"
  },
  "language_info": {
   "codemirror_mode": {
    "name": "ipython",
    "version": 3
   },
   "file_extension": ".py",
   "mimetype": "text/x-python",
   "name": "python",
   "nbconvert_exporter": "python",
   "pygments_lexer": "ipython3",
   "version": "3.7.9"
  }
 },
 "nbformat": 4,
 "nbformat_minor": 4
}
